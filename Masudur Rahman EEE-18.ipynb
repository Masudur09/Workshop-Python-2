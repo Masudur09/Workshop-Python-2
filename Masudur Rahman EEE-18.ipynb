{
 "cells": [
  {
   "cell_type": "markdown",
   "metadata": {},
   "source": [
    "# About Flow Control"
   ]
  },
  {
   "cell_type": "markdown",
   "metadata": {},
   "source": [
    "### question:What is flow control?"
   ]
  },
  {
   "cell_type": "markdown",
   "metadata": {},
   "source": [
    "Flow control is the mechanism that ensures the rate at which a sender is transmitting is in proportion with the receiver’s receiving capabilities.\n",
    "\n",
    "Flow control is utilized in data communications to manage the flow of data/packets among two different nodes, especially in cases where the sending device can send data much faster than the receiver can digest."
   ]
  },
  {
   "cell_type": "markdown",
   "metadata": {},
   "source": [
    "### question:List all flow control with example"
   ]
  },
  {
   "cell_type": "markdown",
   "metadata": {},
   "source": [
    "A Flow Control Statement defines the flow of the execution of the Program.\n",
    " \n",
    "There are 6 different types of flow control statements available in Python:\n",
    "if-else\n",
    "Nested if-else\n",
    "for\n",
    "while\n",
    "break\n",
    "Continue\n",
    "\n",
    "Let’s learn about these all statements in detail."
   ]
  },
  {
   "cell_type": "markdown",
   "metadata": {},
   "source": [
    "#### if-else"
   ]
  },
  {
   "cell_type": "markdown",
   "metadata": {},
   "source": [
    "If-else is used for decision making; when code statements satisfy the condition, then it will return non-zero values as true, or else zero or NONE value as false, by the Python interpreter.\n",
    " \n",
    "Syntax\n",
    "if(<condition>):    \n",
    "    Statement 1    \n",
    "    ...    \n",
    "else:    \n",
    "    Statement 2    \n",
    "    ...   "
   ]
  },
  {
   "cell_type": "markdown",
   "metadata": {},
   "source": [
    "##### Example"
   ]
  },
  {
   "cell_type": "code",
   "execution_count": 1,
   "metadata": {},
   "outputs": [
    {
     "name": "stdout",
     "output_type": "stream",
     "text": [
      "1 is a positive value\n"
     ]
    }
   ],
   "source": [
    "num=1\n",
    "if num>0:\n",
    "    print (num,\"is a positive value\")"
   ]
  },
  {
   "cell_type": "markdown",
   "metadata": {},
   "source": [
    "### Nested if-else"
   ]
  },
  {
   "cell_type": "markdown",
   "metadata": {},
   "source": [
    "With if...elif...else, elif is a shortened form of else if. It works the same as 'if' statements, where the if block condition is false then it checks to elif blocks. If all blocks are false, then it executes an else statement. There are multiple elif blocks possible for a Nested if...else.\n",
    " \n",
    "Syntax\n",
    "if  (<condition 1>):    \n",
    "    Statement 1    \n",
    "    ...    \n",
    "elif (<condition 2>):    \n",
    "    Statement 2    \n",
    "    ...    \n",
    "else    \n",
    "    Statement 3    \n",
    "    ...   "
   ]
  },
  {
   "cell_type": "markdown",
   "metadata": {},
   "source": [
    "#### Example"
   ]
  },
  {
   "cell_type": "code",
   "execution_count": 3,
   "metadata": {},
   "outputs": [
    {
     "name": "stdout",
     "output_type": "stream",
     "text": [
      "0 is zero\n"
     ]
    }
   ],
   "source": [
    "num=0\n",
    "if num>0:\n",
    "    print (num,\"is positive\")\n",
    "elif num==0:\n",
    "    print (num,\"is zero\")\n",
    "else:\n",
    "    print (num,\"is negative\")"
   ]
  },
  {
   "cell_type": "markdown",
   "metadata": {},
   "source": [
    "### for Statement"
   ]
  },
  {
   "cell_type": "markdown",
   "metadata": {},
   "source": [
    "The for loop statement has variable iteration in a sequence(list, tuple or string) and executes statements until the loop does not reach the false condition.\n",
    " \n",
    "Syntax\n",
    "for value in sequence:    \n",
    "    ...body statement of for "
   ]
  },
  {
   "cell_type": "markdown",
   "metadata": {},
   "source": [
    "#### Example"
   ]
  },
  {
   "cell_type": "code",
   "execution_count": 4,
   "metadata": {},
   "outputs": [
    {
     "name": "stdout",
     "output_type": "stream",
     "text": [
      "sum is 20\n"
     ]
    }
   ],
   "source": [
    "numbers=[2,4,6,8]\n",
    "sum=0\n",
    "for i in numbers:\n",
    "    sum=sum+i\n",
    "print (\"sum is\",sum)"
   ]
  },
  {
   "cell_type": "markdown",
   "metadata": {},
   "source": [
    "### while loop"
   ]
  },
  {
   "cell_type": "markdown",
   "metadata": {},
   "source": [
    "A while loop is used in python to iterate over the block of expression which matches to true. Non-zero values are True and zero and negative values are False, as interpreted in Python.\n",
    " \n",
    "Syntax\n",
    "while(<condition>):    \n",
    "    statement 1.. "
   ]
  },
  {
   "cell_type": "markdown",
   "metadata": {},
   "source": [
    "#### Example"
   ]
  },
  {
   "cell_type": "code",
   "execution_count": 5,
   "metadata": {},
   "outputs": [
    {
     "name": "stdout",
     "output_type": "stream",
     "text": [
      "6\n",
      "7\n",
      "8\n",
      "9\n"
     ]
    }
   ],
   "source": [
    "i=6\n",
    "while i<10:\n",
    "    print (i)\n",
    "    i+=1"
   ]
  },
  {
   "cell_type": "markdown",
   "metadata": {},
   "source": [
    "### Break statement"
   ]
  },
  {
   "cell_type": "markdown",
   "metadata": {},
   "source": [
    "The Python Break statement is used to break a loop in a certain condition. It terminates the loop. Also, we can use it inside the loop then it will first terminate the innermost loop.\n",
    " \n",
    "Syntax\n",
    " \n",
    "I. break\n",
    " \n",
    "II. with for loop\n",
    "for value in sequence:    \n",
    "    ...body statement of for    \n",
    "    if(<condition>):    \n",
    "       break    \n",
    "    ...body statement of for loop    \n",
    "      \n",
    "...body statement outside of for loop   \n",
    "III. with a while loop\n",
    "while(<condition>):    \n",
    "    statement 1...    \n",
    "   if(<condition>):    \n",
    "        break    \n",
    "   ...Statement of while loop    \n",
    "        \n",
    "....Statements outside while loop"
   ]
  },
  {
   "cell_type": "markdown",
   "metadata": {},
   "source": [
    "#### Example"
   ]
  },
  {
   "cell_type": "code",
   "execution_count": 8,
   "metadata": {},
   "outputs": [
    {
     "name": "stdout",
     "output_type": "stream",
     "text": [
      "8\n",
      "7\n",
      "6\n",
      "5\n"
     ]
    }
   ],
   "source": [
    "x=9\n",
    "while x>0:\n",
    "    x-=1\n",
    "    if (x!=4):\n",
    "        print (x)\n",
    "    else:\n",
    "        break"
   ]
  },
  {
   "cell_type": "markdown",
   "metadata": {},
   "source": [
    "### Continue Statement"
   ]
  },
  {
   "cell_type": "markdown",
   "metadata": {},
   "source": [
    "A continue statement won’t continue the loop, it executes statements until the condition matches True.\n",
    " \n",
    "Syntax\n",
    " \n",
    "I. continue\n",
    " \n",
    "II. with for loop\n",
    "for value in sequence:    \n",
    "    ...body statement of for    \n",
    "    if(<condition>):    \n",
    "        continue    \n",
    "    ...body statement of for loop    \n",
    "    \n",
    "...body statement outside of for loop \n",
    "III. with the while loop\n",
    "while(<condition>):    \n",
    "    statement 1...    \n",
    "    if(<condition>):    \n",
    "        continue    \n",
    "    ...Statement of while loop    \n",
    "       \n",
    "...Statements outside while loop"
   ]
  },
  {
   "cell_type": "markdown",
   "metadata": {},
   "source": [
    "#### Example"
   ]
  },
  {
   "cell_type": "code",
   "execution_count": 9,
   "metadata": {},
   "outputs": [
    {
     "name": "stdout",
     "output_type": "stream",
     "text": [
      "8\n",
      "7\n",
      "6\n",
      "5\n",
      "3\n",
      "2\n",
      "1\n",
      "0\n"
     ]
    }
   ],
   "source": [
    "m=9\n",
    "while m>0:\n",
    "    m-=1\n",
    "    if (m!=4):\n",
    "        print (m)\n",
    "    else:\n",
    "        continue\n"
   ]
  },
  {
   "cell_type": "markdown",
   "metadata": {},
   "source": [
    "### PASS"
   ]
  },
  {
   "cell_type": "markdown",
   "metadata": {},
   "source": [
    "In Python, pass, and comment both are quite similar. The pass contains a Null value. The Python interpreter ignores the comment statement, but it’s not possible to ignore a pass statement. There is nothing is going to execute when a pass is used. It is used as a Place Holder in a loop or a function.\n"
   ]
  },
  {
   "cell_type": "markdown",
   "metadata": {},
   "source": [
    "#### Example"
   ]
  },
  {
   "cell_type": "code",
   "execution_count": 37,
   "metadata": {},
   "outputs": [],
   "source": [
    "m={'m','a','s','u','d'}\n",
    "for n in m:\n",
    "    pass"
   ]
  },
  {
   "cell_type": "markdown",
   "metadata": {},
   "source": [
    "# Conditional statement"
   ]
  },
  {
   "cell_type": "markdown",
   "metadata": {},
   "source": [
    "### question: what is conditional statement in python?"
   ]
  },
  {
   "cell_type": "markdown",
   "metadata": {},
   "source": [
    "A conditional statement in Python also called a control statement or conditional construct. It is a statement that encapsulates the conditional expressions and evaluates the result in terms of True or False. Below are the types of conditional statements in Python: If conditional statement. Elif conditional statement. Else conditional statement."
   ]
  },
  {
   "cell_type": "markdown",
   "metadata": {},
   "source": [
    "### question:Describe structure conditional statement?"
   ]
  },
  {
   "cell_type": "markdown",
   "metadata": {},
   "source": [
    "In Python programming language we have the following 4 conditional control structures.\n",
    "\n",
    "Simple if-statement.\n",
    "\n",
    "If-else statement.\n",
    "\n",
    "If-elif-else statement.\n",
    "\n",
    "Nested if statement."
   ]
  },
  {
   "cell_type": "markdown",
   "metadata": {},
   "source": [
    "The general syntax of a simple if statement\n",
    " \n",
    "if (<condition-1>):\n",
    "\n",
    "    statement-1\n",
    "    \n",
    "    statement-2\n",
    "\n",
    "statement-p\n",
    " \n",
    "Whenever we have a condition to be tested and we need to execute statement(s) based on a condition then we can use a simple if statement. In the above syntax if the condition-1 evaluates to true then statement-1 and statement-2 will be executed, otherwise, sequential execution continues from statement-p onwards. \n",
    " \n",
    "General syntax of if....else statement\n",
    " \n",
    "if(<condition-1>):\n",
    "\n",
    "    statement-1\n",
    "    \n",
    "    statement-2\n",
    "\n",
    "else:\n",
    "\n",
    "    statement-3\n",
    "    \n",
    "    statement-4\n",
    " \n",
    "Whenever we have a situation where we want to test a condition and if the condition is true we want to execute some statement(s) and when the condition is not true we want to execute another set of statements, we must use the if-else statement. As per the above syntax of the if-else statement, when condition-1 evaluates to true the statement-1 and statement-2 will be executed and, when the condition-1 evaluates to false the statement-3 and, statement-4 will be executed. Therefore either of the statement-1 and statement-2 or statement-3 or statement-4 will be executed but not both.\n",
    " \n",
    "General syntax of if....elif.....else statement\n",
    " \n",
    "if(<condition-1>):\n",
    "\n",
    "    statement-block-1\n",
    "\n",
    "elif(<condition-2>):\n",
    "\n",
    "    statement-block-2\n",
    "\n",
    "elif(<condition-3>):\n",
    "\n",
    "    statement-block-3\n",
    "\n",
    ".....................\n",
    "\n",
    ".....................\n",
    "\n",
    "elif(<condition-n>):\n",
    "\n",
    "    statement-block-n\n",
    "\n",
    "[else:\n",
    "\n",
    "    statement-block-p]\n",
    "\n",
    "statement-q\n",
    " \n",
    "When we have more than one condition to be tested then we must use the if-elif-else statement. The construct of an if-elif-else statement begins with an if-statement and we can write any number of times elif-statements followed by a final else-statement (which is optional).\n",
    " \n",
    "The execution model of the if-elif-else statement is as follows. It will start by testing the condition-1 in case the condition-1 evaluates to true then the statement associated with the first condition (statement-block-1) will alone be executed and after that, the control will branch to statement-q which is outside the if-elif-else construct. In case the condition-1 evaluates to false, then the second condition (condition-2) is tested and, in case the condition-2 evaluates to true then the statement-block-2 alone will be executed, after which the control will branch outside the if-elif-else statement (that is to statement-q). In case the control reaches condition-n it means that the previous n-1 condition evaluated to false and if the condition-n evaluates to true then the statement-block-n will be executed otherwise statement-block-p will be executed. An if-elif-else construct can be used to avoid multiple if statements as well.\n",
    " \n",
    "The general syntax of a nested-if statement\n",
    " \n",
    "Whenever we write an if-statement inside another if-statement or if-statement inside an else-statement is known as a nested-if.\n",
    " \n",
    "Sample syntax #1\n",
    " \n",
    "if(<condition-1>):\n",
    "\n",
    "    if(<condition-2>):\n",
    "    \n",
    "        statement-1\n",
    "        \n",
    "        statement-2\n",
    " \n",
    "Only if condition-1 and condition-2 both evaluate to true, then statements 1 and 2 will be executed, otherwise not.\n",
    " \n",
    "Sample syntax #2\n",
    " \n",
    "if(<condition-1>)\n",
    "    \n",
    "    statement-1\n",
    "    \n",
    "    statement-2\n",
    "\n",
    "else:\n",
    "\n",
    "    if(<condition-2>):\n",
    "    \n",
    "        statement-3\n",
    "        \n",
    "        statement-4"
   ]
  },
  {
   "cell_type": "markdown",
   "metadata": {},
   "source": [
    "### Problem 1"
   ]
  },
  {
   "cell_type": "markdown",
   "metadata": {},
   "source": [
    "Take input from a user and check whether the number is odd or even?"
   ]
  },
  {
   "cell_type": "code",
   "execution_count": 58,
   "metadata": {},
   "outputs": [
    {
     "name": "stdout",
     "output_type": "stream",
     "text": [
      "Enter a number 9\n",
      "9 is odd\n"
     ]
    }
   ],
   "source": [
    "x= int(input(\"Enter a number \"))\n",
    "if ( x%2==0 ):\n",
    "    print (x,\"is even\")\n",
    "else:\n",
    "    print (x,\"is odd\")"
   ]
  },
  {
   "cell_type": "markdown",
   "metadata": {},
   "source": [
    "### Problem 2"
   ]
  },
  {
   "cell_type": "markdown",
   "metadata": {},
   "source": [
    "##### Ques: 1"
   ]
  },
  {
   "cell_type": "markdown",
   "metadata": {},
   "source": [
    "Print number of sample, if 100 <= a <200, and a is divisible by 9."
   ]
  },
  {
   "cell_type": "code",
   "execution_count": 57,
   "metadata": {},
   "outputs": [
    {
     "name": "stdout",
     "output_type": "stream",
     "text": [
      "Enter an integer number 100\n",
      "100  is invalid number\n"
     ]
    }
   ],
   "source": [
    "a=int(input(\"Enter an integer number \"))\n",
    "if (a>=100 and a<200 and a%9==0):\n",
    "        print (a)\n",
    "else:\n",
    "    print (a,\" is invalid number\")"
   ]
  },
  {
   "cell_type": "markdown",
   "metadata": {},
   "source": [
    "##### Ques: 2"
   ]
  },
  {
   "cell_type": "markdown",
   "metadata": {},
   "source": [
    "Display those numbers which are divisible by 7 and multiple of 5, between 500 and 100."
   ]
  },
  {
   "cell_type": "code",
   "execution_count": 59,
   "metadata": {},
   "outputs": [
    {
     "name": "stdout",
     "output_type": "stream",
     "text": [
      "105,140,175,210,245,280,315,350,385,420,455,490\n"
     ]
    }
   ],
   "source": [
    "nl=[]\n",
    "for a in range(100, 500):\n",
    "    if (a%7==0) and (a%5==0):\n",
    "        nl.append(str(a))\n",
    "print (','.join(nl))"
   ]
  },
  {
   "cell_type": "markdown",
   "metadata": {},
   "source": [
    "### Problem 3"
   ]
  },
  {
   "cell_type": "markdown",
   "metadata": {},
   "source": [
    "Take year as a input integer from a user,\n",
    "check whether the year as leap year or not."
   ]
  },
  {
   "cell_type": "code",
   "execution_count": 60,
   "metadata": {},
   "outputs": [
    {
     "name": "stdout",
     "output_type": "stream",
     "text": [
      "Please Enter the Year Number you wish: 1998\n",
      "1998 is Not the Leap Year\n"
     ]
    }
   ],
   "source": [
    "year = int(input(\"Please Enter the Year Number you wish: \"))\n",
    "\n",
    "if (( year%400 == 0)or (( year%4 == 0 ) and ( year%100 != 0))):\n",
    "    print(\"%d is a Leap Year\" %year)\n",
    "else:\n",
    "    print(\"%d is Not the Leap Year\" %year)"
   ]
  },
  {
   "cell_type": "markdown",
   "metadata": {},
   "source": [
    "### Problem 4"
   ]
  },
  {
   "cell_type": "markdown",
   "metadata": {},
   "source": [
    "Make a simple calculator (function: +, -, * and /)\n",
    "\n",
    "Take three input from a user, say, input1, input2,input3.\n",
    "\n",
    "Input1 represent arithmatic sign (+, -, * and /)\n",
    "\n",
    "Input2 and input3 represent number.\n",
    "\n",
    "Display arithmatic output of input2 and input3 based on input1."
   ]
  },
  {
   "cell_type": "code",
   "execution_count": 1,
   "metadata": {},
   "outputs": [
    {
     "name": "stdout",
     "output_type": "stream",
     "text": [
      "Enter a number greater than 1: 8\n",
      "Enter a number greater than 1: 9\n",
      "Choose a math operation (+, -, *, //): +\n",
      "17\n"
     ]
    }
   ],
   "source": [
    "num1 = int(input(\"Enter a number greater than 1: \"))\n",
    "num2 = int(input(\"Enter a number greater than 1: \"))\n",
    "oper = input(\"Choose a math operation (+, -, *, //): \")\n",
    "if oper == \"+\":\n",
    "       print(num1 + num2)\n",
    "elif oper == \"-\":\n",
    "       print (num1 - num2)\n",
    "elif oper == \"*\":\n",
    "       print (num1 * num2)\n",
    "elif oper == \"//\":\n",
    "        print(num1 / num2)"
   ]
  },
  {
   "cell_type": "markdown",
   "metadata": {},
   "source": [
    "### Problem 5"
   ]
  },
  {
   "cell_type": "markdown",
   "metadata": {},
   "source": [
    "Take a number from user, check if the number is positive or negative or zero and display an appropriate message"
   ]
  },
  {
   "cell_type": "code",
   "execution_count": 65,
   "metadata": {},
   "outputs": [
    {
     "name": "stdout",
     "output_type": "stream",
     "text": [
      "Enter a number 9\n",
      "9  is positive\n"
     ]
    }
   ],
   "source": [
    "x=int(input(\"Enter a number \"))\n",
    "if (x>0):\n",
    "    print(x,\" is positive\")\n",
    "elif (x<0):\n",
    "    print(x, \"is negetive\")\n",
    "else:\n",
    "    print(x, \"is zero\")"
   ]
  },
  {
   "cell_type": "markdown",
   "metadata": {},
   "source": [
    "### Problem 6"
   ]
  },
  {
   "cell_type": "markdown",
   "metadata": {},
   "source": [
    "Take values of length and breadth of a rectangle from a user and check if it is square or not"
   ]
  },
  {
   "cell_type": "code",
   "execution_count": 2,
   "metadata": {},
   "outputs": [
    {
     "name": "stdout",
     "output_type": "stream",
     "text": [
      "Enter the value of length : 8\n",
      "Enter the value of breadth : 8\n",
      "Yes, it is a square\n"
     ]
    }
   ],
   "source": [
    "length = float(input(\"Enter the value of length : \"))\n",
    "breadth = float(input(\"Enter the value of breadth : \"))\n",
    "if length == breadth:\n",
    "    print(\"Yes, it is a square\")\n",
    "else:\n",
    "    print(\"No, it is only a rectangle\")"
   ]
  },
  {
   "cell_type": "markdown",
   "metadata": {},
   "source": [
    "### Problem 7"
   ]
  },
  {
   "cell_type": "markdown",
   "metadata": {},
   "source": [
    "Take three integer values from a user and display the highest and lowest number among them."
   ]
  },
  {
   "cell_type": "code",
   "execution_count": 69,
   "metadata": {},
   "outputs": [
    {
     "name": "stdout",
     "output_type": "stream",
     "text": [
      "8\n",
      "4\n",
      "9\n",
      "9  is greater\n"
     ]
    }
   ],
   "source": [
    "a=input()\n",
    "b=input()\n",
    "c=input()\n",
    "if (a>b and a>c):\n",
    "    print (a,\" is greater\")\n",
    "elif (b>a and b>c):\n",
    "    print (b,\" is greater\")\n",
    "else:\n",
    "    print (c,\" is greater\")"
   ]
  },
  {
   "cell_type": "markdown",
   "metadata": {},
   "source": [
    "### Problem 8"
   ]
  },
  {
   "cell_type": "markdown",
   "metadata": {},
   "source": [
    "Ask a user to enter marks and print the corresponding grade.\n",
    "\n",
    "Hints\n",
    "\n",
    "Below 30 - F\n",
    "\n",
    "30 to 35 - D\n",
    "\n",
    "35 to 40 - C\n",
    "\n",
    "Grading should follow hstu grading structure."
   ]
  },
  {
   "cell_type": "code",
   "execution_count": 72,
   "metadata": {},
   "outputs": [
    {
     "name": "stdout",
     "output_type": "stream",
     "text": [
      "Enter Marks 99\n",
      "Grade A+\n"
     ]
    }
   ],
   "source": [
    "Marks=int(input(\"Enter Marks \"))\n",
    "if (Marks>=80 and Marks<100):\n",
    "    print (\"Grade A+\")\n",
    "elif (Marks>=75 and Marks<80):\n",
    "    print (\"Grade A\")\n",
    "elif (Marks>=70 and Marks<75):\n",
    "    print (\"Grade A-\")\n",
    "elif (Marks>=65 and Marks<70):\n",
    "    print (\"Grade B+\")\n",
    "elif (Marks>=60 and Marks<65):\n",
    "    print (\"Grade B\")\n",
    "elif (Marks>=55 and Marks<60):\n",
    "    print (\"Grade B-\")\n",
    "elif (Marks>=50 and Marks<55):\n",
    "    print (\"Grade C+\")\n",
    "elif (Marks>=45 and Marks<50):\n",
    "    print (\"Grade C\")\n",
    "elif (Marks>=40 and Marks<45):\n",
    "    print (\"Grade D\")\n",
    "elif (Marks>=0 and Marks<40):\n",
    "    print (\"Grade F\")\n",
    "else:\n",
    "    print (\"You've entered a invalid number\")"
   ]
  }
 ],
 "metadata": {
  "kernelspec": {
   "display_name": "Python 3",
   "language": "python",
   "name": "python3"
  },
  "language_info": {
   "codemirror_mode": {
    "name": "ipython",
    "version": 3
   },
   "file_extension": ".py",
   "mimetype": "text/x-python",
   "name": "python",
   "nbconvert_exporter": "python",
   "pygments_lexer": "ipython3",
   "version": "3.8.5"
  }
 },
 "nbformat": 4,
 "nbformat_minor": 4
}
